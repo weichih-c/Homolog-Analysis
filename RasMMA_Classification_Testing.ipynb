{
 "cells": [
  {
   "cell_type": "code",
   "execution_count": 1,
   "metadata": {
    "collapsed": true
   },
   "outputs": [],
   "source": [
    "import os, pickle\n",
    "import pandas as pd\n",
    "import numpy as np"
   ]
  },
  {
   "cell_type": "code",
   "execution_count": 2,
   "metadata": {
    "collapsed": true
   },
   "outputs": [],
   "source": [
    "% run FeatureTrace.ipynb\n",
    "def getFeatureProfiles(filePaths):\n",
    "    featureObj = FeatureTrace\n",
    "    featureProfiles = dict()\n",
    "    for f in filePaths:\n",
    "        fName = os.path.basename(f)\n",
    "        featureProfile = featureObj(f).getTrace_noContainTS()\n",
    "        featureProfiles[fName] = featureProfile\n",
    "    return featureProfiles"
   ]
  },
  {
   "cell_type": "code",
   "execution_count": 3,
   "metadata": {
    "collapsed": true
   },
   "outputs": [],
   "source": [
    "% run Alignment_Fast3.ipynb\n",
    "\n",
    "# Doing global alignment and Calculate common motif.\n",
    "# will return a common motif dict\n",
    "def do_alignment(rep1, rep2, alignType):\n",
    "    if alignType == 'local':\n",
    "        return localAlign( rep1, rep2, 10, -1, 0)[2]\n",
    "    elif alignType == 'global':\n",
    "        commonSeq = []\n",
    "        gsa_result = globalAlign(rep1, rep2, 10, -1, 0)[2]\n",
    "\n",
    "        for (motifLeft, motifRight) in gsa_result:\n",
    "            leftIndex, leftAPI = motifLeft\n",
    "            rightIndex, rightAPI = motifRight\n",
    "            if leftAPI == rightAPI:\n",
    "                commonSeq.append(leftAPI)\n",
    "        return commonSeq\n",
    "    \n",
    "    else:\n",
    "        return None"
   ]
  },
  {
   "cell_type": "code",
   "execution_count": 4,
   "metadata": {
    "collapsed": true
   },
   "outputs": [],
   "source": [
    "def getTestingResult_localAlign(testFileTrace, modelSeq):\n",
    "    commonSeq = do_alignment(testFileTrace, modelSeq, 'local')\n",
    "    return len(commonSeq)\n",
    "\n",
    "def getTestingResult_globalAlign(testFileTrace, modelSeq):\n",
    "    commonSeq = do_alignment(testFileTrace, modelSeq, 'global')\n",
    "    return len(commonSeq), commonSeq\n",
    "def getTestingResult_setIntersection(testFileTrace, modelSeq):\n",
    "    return len(set(testFileTrace).intersection(set(modelSeq))) / len(set(testFileTrace))"
   ]
  },
  {
   "cell_type": "code",
   "execution_count": 30,
   "metadata": {
    "collapsed": true
   },
   "outputs": [],
   "source": [
    "# familyName = \"eggnog\"\n",
    "# gen = \"main\"\n",
    "def doRasmmaTesting(outputFileName, gen, rasmmaModelDict, data_dir_path, my_tree_weigth = None):\n",
    "\n",
    "    testFilePaths = [data_dir_path+f for f in os.listdir(data_dir_path) if os.path.isfile(data_dir_path+f)]\n",
    "    testFile_featureTraces = getFeatureProfiles(testFilePaths)\n",
    "\n",
    "    result_dict = dict()\n",
    "\n",
    "    for testFileName, testFileTrace in testFile_featureTraces.items():\n",
    "        scoreLenDict = dict()\n",
    "        for labelTag, modelParams in rasmmaModelDict.items():\n",
    "            treeWeight, modelSeq = modelParams\n",
    "            oneFamily_score = getTestingResult_globalAlign(testFileTrace, modelSeq)\n",
    "            if my_tree_weigth != None:\n",
    "                treeWeight = my_tree_weigth\n",
    "            scoreLenDict[labelTag] = oneFamily_score * treeWeight\n",
    "        testFileName = testFileName[0:6] + '_' + testFileName.split(\"_\")[1].split(\".\")[0]\n",
    "        result_dict[testFileName] = scoreLenDict\n",
    "\n",
    "    import pickle\n",
    "    with open(outputFileName, 'wb') as fHandle:\n",
    "        pickle.dump(result_dict, fHandle, protocol=pickle.HIGHEST_PROTOCOL)\n",
    "        fHandle.close()\n",
    "#     if not os.path.isdir(outputDir): os.makedirs(outputDir)\n",
    "\n",
    "#     with open(outputDir + \"result_\"+familyName+\".pickle\", 'wb') as fHandle:\n",
    "#         pickle.dump(result_dict, fHandle, protocol=pickle.HIGHEST_PROTOCOL)\n",
    "    print(\"Saving Result:\", familyName)"
   ]
  },
  {
   "cell_type": "markdown",
   "metadata": {},
   "source": [
    "### Do Testing only using RasMMA rep."
   ]
  },
  {
   "cell_type": "code",
   "execution_count": 6,
   "metadata": {
    "collapsed": true
   },
   "outputs": [],
   "source": [
    "%run CollectForestInfo.ipynb\n",
    "import os"
   ]
  },
  {
   "cell_type": "markdown",
   "metadata": {},
   "source": [
    "#### Building Model"
   ]
  },
  {
   "cell_type": "code",
   "execution_count": 7,
   "metadata": {},
   "outputs": [
    {
     "name": "stdout",
     "output_type": "stream",
     "text": [
      "=== Finish building model ===\n",
      "Residual Families: 28\n",
      "23 Families did not match requirement: \n",
      " {'jadtre', 'nsanti', 'startpage', 'wenper', 'vundo', 'ogimant', 'jeefo', 'lydra', 'gamarue', 'bayrob', 'ganelp', 'devir', 'fujacks', 'koutodoor', 'simile', 'webprefix', 'klez', 'virlock', 'cycbot', 'rimecud', 'kwbot', 'fareit', 'cerber'}\n"
     ]
    }
   ],
   "source": [
    "base_dir = \"output/top3_party_0622/\"\n",
    "familyDirs = [base_dir+f+'/' for f in os.listdir(base_dir)]\n",
    "\n",
    "rasmmaModel_dict = dict()\n",
    "weight_dict = dict()\n",
    "\n",
    "ignoreFamilys = set()\n",
    "\n",
    "for fam in familyDirs:\n",
    "    pickleDir = fam + 'pickle/'\n",
    "    tag = pickleDir.split('/')[-3]\n",
    "    interPkl = pickleDir + tag + \"_intermediate.pickle\"\n",
    "    residualPkl = pickleDir + tag + \"_residual.pickle\"\n",
    "\n",
    "    forestInfo = CollectForestInfo(interPkl,\n",
    "                           residualPkl,\n",
    "                           True) # one pickle is a forest\n",
    "    \n",
    "    forestMemberCount = forestInfo.getForestMemberCount()\n",
    "    weight_dict[tag.split(\"_\")[0]] = dict()\n",
    "    for treeName in forestInfo.getTreeRootNameList():\n",
    "        labelName = tag+'_'+treeName\n",
    "        memberCount = len(forestInfo.getTreeMembers(treeName))\n",
    "        repSeq = forestInfo.getRepAPISeq(treeName)\n",
    "#         if len(repSeq) > 10:\n",
    "        rasmmaModel_dict[labelName] = (memberCount/forestMemberCount, repSeq)\n",
    "        weight_dict[tag.split(\"_\")[0]][treeName] = (memberCount/forestMemberCount,\n",
    "                                                    len(repSeq), memberCount)\n",
    "\n",
    "for fName, trs in weight_dict.items():\n",
    "    save = False\n",
    "    for tr, info in trs.items():\n",
    "        if info[1] > 10 and info[2] > 2:\n",
    "            save = True\n",
    "            break\n",
    "    if not save:\n",
    "        ignoreFamilys.add(fName)\n",
    "        \n",
    "    \n",
    "print(\"=== Finish building model ===\")\n",
    "print(\"Residual Families:\", len(familyDirs) - len(ignoreFamilys))\n",
    "print(len(ignoreFamilys), \"Families did not match requirement: \\n\",ignoreFamilys)"
   ]
  },
  {
   "cell_type": "markdown",
   "metadata": {},
   "source": [
    "### RasMMA(only) Testing"
   ]
  },
  {
   "cell_type": "code",
   "execution_count": null,
   "metadata": {
    "scrolled": true
   },
   "outputs": [
    {
     "name": "stdout",
     "output_type": "stream",
     "text": [
      "=== Prepared Input Parameters ===\n",
      "--> use testing data: allaple\n"
     ]
    }
   ],
   "source": [
    "#### top3 testing\n",
    "\n",
    "inputParams = list()\n",
    "for famDir in familyDirs:\n",
    "    familyName = famDir.split('/')[-2].split('_')[0]\n",
    "    inputParams.append(familyName)\n",
    "print(\"=== Prepared Input Parameters ===\")\n",
    "\n",
    "test_base_path = \"11939data/no_consensus_all/\"\n",
    "outputDir = \"output/omg_testing/11939_no_consensus/global_align/\"\n",
    "\n",
    "tree_weigth = 1\n",
    "\n",
    "for inputPar in inputParams:\n",
    "    if inputPar not in ignoreFamilys:\n",
    "        familyName = inputPar\n",
    "#         data_dir = test_base_path + familyName + '/'\n",
    "#         opfName = outputDir + \"result_\"+familyName+\".pickle\"\n",
    "        data_dir = test_base_path\n",
    "        opfName = outputDir + 'result_no_consensus.pickle'\n",
    "        # if family has done, skip it. (Maybe caused from memory error before.)\n",
    "        if os.path.isfile(opfName):\n",
    "            continue\n",
    "\n",
    "        # if family didn't exist, skip it.\n",
    "        if not os.path.isdir(data_dir):\n",
    "            print(\"no this dir:\", familyName)\n",
    "            continue\n",
    "\n",
    "        print(\"--> use testing data:\", familyName)\n",
    "        doRasmmaTesting(opfName, \"\", rasmmaModel_dict, data_dir, tree_weigth)\n",
    "        print(\"--> Finish testing.\")"
   ]
  },
  {
   "cell_type": "code",
   "execution_count": null,
   "metadata": {
    "collapsed": true
   },
   "outputs": [],
   "source": []
  }
 ],
 "metadata": {
  "kernelspec": {
   "display_name": "Python 3",
   "language": "python",
   "name": "python3"
  },
  "language_info": {
   "codemirror_mode": {
    "name": "ipython",
    "version": 3
   },
   "file_extension": ".py",
   "mimetype": "text/x-python",
   "name": "python",
   "nbconvert_exporter": "python",
   "pygments_lexer": "ipython3",
   "version": "3.6.3"
  }
 },
 "nbformat": 4,
 "nbformat_minor": 2
}
