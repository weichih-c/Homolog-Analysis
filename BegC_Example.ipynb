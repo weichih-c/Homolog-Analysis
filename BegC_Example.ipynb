{
 "cells": [
  {
   "cell_type": "code",
   "execution_count": null,
   "metadata": {
    "collapsed": true
   },
   "outputs": [],
   "source": [
    "import os, pickle\n",
    "%run CollectForestInfo.ipynb\n",
    "%run RasMMA.ipynb"
   ]
  },
  {
   "cell_type": "code",
   "execution_count": null,
   "metadata": {
    "collapsed": true
   },
   "outputs": [],
   "source": [
    "base_dir = 'output/top3_party_0622/'\n",
    "tag = '28fam_cross'\n",
    "outputPath = 'output/begC/'+tag+'/'\n",
    "\n",
    "famNames = os.listdir(base_dir)\n",
    "cand_clusters = dict()\n",
    "candCounter = 0\n",
    "for fName in famNames:\n",
    "    pickleDir = base_dir+fName+'/pickle/'\n",
    "    interPkl = pickleDir + fName + \"_intermediate.pickle\"\n",
    "    residualPkl = pickleDir + fName + \"_residual.pickle\"\n",
    "    forestInfo = CollectForestInfo(interPkl,\n",
    "                           residualPkl,\n",
    "                           True) # one pickle is a forest\n",
    "\n",
    "    for treeName in forestInfo.getTreeRootNameList():\n",
    "        labelName = fName+'_'+treeName\n",
    "        memberCount = len(forestInfo.getTreeMembers(treeName))\n",
    "        repSeq = forestInfo.getRepAPISeq(treeName)\n",
    "        if memberCount > 2 and len(repSeq) > 10:\n",
    "            clusterName = 'G'+str(candCounter)\n",
    "            R = (clusterName, [repSeq])\n",
    "#             R = (clusterName, [(repSeq, 0, len(repSeq)-1)] )\n",
    "            clusterMembers = set()\n",
    "            clusterMembers.add(labelName)\n",
    "            cand_clusters[candCounter] = (R, clusterMembers)\n",
    "            candCounter += 1"
   ]
  },
  {
   "cell_type": "code",
   "execution_count": null,
   "metadata": {
    "collapsed": true
   },
   "outputs": [],
   "source": [
    "threshold = 0.8\n",
    "intermediatePool, initialDict, roundInfos, residual = clusterInitializedReps(cand_clusters,\n",
    "                                                                             tag,\n",
    "                                                                             outputPath,\n",
    "                                                                             threshold)\n",
    "pickleDir = outputPath + 'pickle/'\n",
    "if not os.path.isdir(pickleDir): os.makedirs(pickleDir)\n",
    "\n",
    "# saving intermediatePool as pickle file\n",
    "with open(pickleDir + tag + '_intermediate.pickle', 'wb') as handle:\n",
    "    pickle.dump(intermediatePool, handle, protocol=pickle.HIGHEST_PROTOCOL)\n",
    "\n",
    "# saving initialNames dict as pickle file\n",
    "with open(pickleDir + tag + '_initialDict.pickle', 'wb') as handle:\n",
    "    pickle.dump(initialDict, handle, protocol=pickle.HIGHEST_PROTOCOL)\n",
    "\n",
    "# saving round information dict as pickle file\n",
    "with open(pickleDir + tag + '_roundInfos.pickle', 'wb') as handle:\n",
    "    pickle.dump(roundInfos, handle, protocol=pickle.HIGHEST_PROTOCOL)\n",
    "\n",
    "if(residual is not None):\n",
    "    # saving round information dict as pickle file\n",
    "    with open(pickleDir + tag + '_residual.pickle', 'wb') as handle:\n",
    "        pickle.dump(residual, handle, protocol=pickle.HIGHEST_PROTOCOL)"
   ]
  }
 ],
 "metadata": {
  "kernelspec": {
   "display_name": "Python 3",
   "language": "python",
   "name": "python3"
  },
  "language_info": {
   "codemirror_mode": {
    "name": "ipython",
    "version": 3
   },
   "file_extension": ".py",
   "mimetype": "text/x-python",
   "name": "python",
   "nbconvert_exporter": "python",
   "pygments_lexer": "ipython3",
   "version": "3.6.3"
  }
 },
 "nbformat": 4,
 "nbformat_minor": 2
}
