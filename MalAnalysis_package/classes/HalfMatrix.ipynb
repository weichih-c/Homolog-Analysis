{
 "cells": [
  {
   "cell_type": "code",
   "execution_count": 13,
   "metadata": {
    "collapsed": false
   },
   "outputs": [],
   "source": [
    "class HalfMatrix:\n",
    "    x_size = None\n",
    "    size = None\n",
    "    matrix = None\n",
    "    \n",
    "    def __init__(self, x_size):\n",
    "        self.x_size = x_size\n",
    "        self.size = (self.x_size+1)*self.x_size/2\n",
    "        self.matrix = [None] * self.size\n",
    "        \n",
    "    def __len__(self):\n",
    "        return self.size\n",
    "    \n",
    "    def length(self):\n",
    "        return self.x_size\n",
    "    \n",
    "    def __str__(self):\n",
    "        idx = 0\n",
    "        o = ''\n",
    "        for i in range(self.x_size):\n",
    "            for j in range(i, self.x_size):\n",
    "                o += self.matrix[idx].__str__()\n",
    "                idx += 1\n",
    "            o += '\\n'\n",
    "        return o\n",
    "        \n",
    "    def toSeries(self, i, j):\n",
    "        if i > j:\n",
    "            i, j = j, i\n",
    "        # ((self.x_size-i+1) + self.x_size)*i/2 + ((j-i) +1) -1\n",
    "        return ((self.x_size-i+1) + self.x_size)*i/2 + (j-i)\n",
    "    \n",
    "    def getIJ(self, i, j):\n",
    "        return self.matrix[self.toSeries(i,j)]\n",
    "    \n",
    "    def setIJ(self, i, j, value):\n",
    "        self.matrix[self.toSeries(i,j)] = value"
   ]
  }
 ],
 "metadata": {
  "kernelspec": {
   "display_name": "Python 2",
   "language": "python",
   "name": "python2"
  },
  "language_info": {
   "codemirror_mode": {
    "name": "ipython",
    "version": 2
   },
   "file_extension": ".py",
   "mimetype": "text/x-python",
   "name": "python",
   "nbconvert_exporter": "python",
   "pygments_lexer": "ipython2",
   "version": "2.7.11"
  }
 },
 "nbformat": 4,
 "nbformat_minor": 0
}
