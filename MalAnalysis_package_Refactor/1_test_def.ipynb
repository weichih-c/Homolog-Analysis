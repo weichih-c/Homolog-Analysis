{
 "cells": [
  {
   "cell_type": "code",
   "execution_count": 26,
   "metadata": {
    "collapsed": false
   },
   "outputs": [],
   "source": [
    "family_name='897_.2407 (7)'\n",
    "BASE = '03c009b451e012002513513a5d7e1b00_3444.trace.hooklog'\n",
    "\n",
    "family_path='data/family/'+ family_name                  \n",
    "directory_path = family_path +'/hooklogs/'\n",
    "featureProfile = dict()\n",
    "\n",
    "alidata_path = family_path +'/'+family_name+'_alignment.p' \n",
    "offset = 0\n",
    "window = 1"
   ]
  },
  {
   "cell_type": "code",
   "execution_count": null,
   "metadata": {
    "collapsed": true
   },
   "outputs": [],
   "source": [
    "#profile => featureProfile.keys()\n",
    "#profile_dict => featureProfile\n",
    "#alignmentList_dict => alignment\n",
    "#matchMatrix_dict => matchMatrix\n",
    "#gapSeqList_dict => gapSeqList\n",
    "#stageMatrix_dict => stageMatrix"
   ]
  },
  {
   "cell_type": "code",
   "execution_count": 27,
   "metadata": {
    "collapsed": false,
    "scrolled": true
   },
   "outputs": [],
   "source": [
    "# featureProfile => featureProfile{}\n",
    "\n",
    "import os\n",
    "%run \"testDef_addFeature.ipynb\"\n",
    "\n",
    "for f in os.listdir(directory_path):\n",
    "\n",
    "    if f.endswith('.trace.hooklog'):\n",
    "        fh = FeatureHooklog(directory_path+ f)\n",
    "        featureProfile[f] = fh.getHkli_noContainTS()\n",
    "# featureProfile"
   ]
  },
  {
   "cell_type": "code",
   "execution_count": 28,
   "metadata": {
    "collapsed": false
   },
   "outputs": [
    {
     "name": "stdout",
     "output_type": "stream",
     "text": [
      "total  7 Execution Traces\n",
      "(read alignment pickle)\n",
      "all pairwise alignment done.\n"
     ]
    }
   ],
   "source": [
    "# alignment => alignment_dict{}\n",
    "\n",
    "import multiprocessing\n",
    "import pickle\n",
    "\n",
    "%run \"classes/alignment/Alignment.ipynb\"\n",
    "\n",
    "print 'total ',len(featureProfile.keys()), 'Execution Traces'\n",
    "\n",
    "if not os.path.isfile(alidata_path): \n",
    "    \n",
    "    pool = multiprocessing.Pool(processes=7) #可以調整processes數量parallel computing\n",
    "    \n",
    "    ali = dict()\n",
    "    for hk in featureProfile.keys():\n",
    "        ali[hk] = pool.apply_async(pairwise_NW, (BASE, hk, 2, -1, -3, 1, ))\n",
    "    pool.close()\n",
    "    pool.join()\n",
    "    \n",
    "    alignment = dict()\n",
    "    for t in ali:\n",
    "        alignment[t] = ali[t].get()[2]\n",
    "    pickle.dump(alignment, open(alidata_path, \"wb\"))\n",
    "\n",
    "else:\n",
    "    alignment = pickle.load(open(alidata_path,'rb')) #將alignment結果自路徑中的pickle檔讀取，並存至alignment\n",
    "    print '(read alignment pickle)'\n",
    "    \n",
    "print 'all pairwise alignment done.'\n",
    "# alignment"
   ]
  },
  {
   "cell_type": "code",
   "execution_count": 29,
   "metadata": {
    "collapsed": false
   },
   "outputs": [
    {
     "name": "stdout",
     "output_type": "stream",
     "text": [
      "profile 32abc951d6c707d2036c9e2a50e5fcb6_2868.trace.hooklog\n",
      "profile 2272d05b959f133bcf3e38c48ddbfcad_3256.trace.hooklog\n",
      "profile a0ceb22ed87df9019f39c5c135a58c17_3228.trace.hooklog\n",
      "profile b295318cdd0ad09baa1cdadf86b90fc1_3228.trace.hooklog\n",
      "profile 6123f4e765d6ba2bb4d9878de8f0598b_3200.trace.hooklog\n",
      "profile 03c009b451e012002513513a5d7e1b00_3444.trace.hooklog\n",
      "profile c32e9387f94c67a39d4c35b111302b0b_3208.trace.hooklog\n"
     ]
    }
   ],
   "source": [
    "# matchMatrix => matchMatrix_dict \n",
    "# gapSeqList => gapSeqList_dict\n",
    "\n",
    "# use => alignment, featureProfile\n",
    "\n",
    "matchMatrix={i+1:[] for i in xrange(len(featureProfile[BASE]))} #index start from 1 to |PB|\n",
    "gapSeqList={i:[] for i in xrange(len(featureProfile[BASE])+1)} #start is gap, end is not gap\n",
    " \n",
    "for i,k in enumerate(alignment):\n",
    "    print 'profile', k\n",
    "    isMeet1 = 0\n",
    "    if len(featureProfile[k]) > len(featureProfile[BASE]):\n",
    "        for ii,((i1,t1),(i2,t2)) in enumerate(alignment[k]):\n",
    "            #判斷是否有在PB[0]之前就插入\n",
    "            if not isMeet1 and i1 == -1:\n",
    "                strBuf_list = [t2]\n",
    "                while alignment[k][ii+1][0][0] == -1:\n",
    "                    strBuf_list.append(alignment[k][ii+1][1][1])\n",
    "                    ii += 1\n",
    "                gapSeqList[0].append((k, strBuf_list))\n",
    "                isMeet1 = 1\n",
    "            else:\n",
    "                isMeet1 = 1\n",
    "            \n",
    "            #判斷PB[0]之後的情形\n",
    "            if t1=='=' and t2!='=' and isMeet1 and alignment[k][ii-1][0][0]!=-1:\n",
    "                lastIndex = alignment[k][ii-1][0][0]\n",
    "                strBuf_list = [t2]\n",
    "                try:\n",
    "                    while alignment[k][ii+1][0][0] == -1:\n",
    "                        strBuf_list.append(alignment[k][ii+1][1][1])\n",
    "                        ii += 1\n",
    "                except:\n",
    "                    pass                \n",
    "                gapSeqList[lastIndex].append((k, strBuf_list))\n",
    "            elif t2=='=' and t1!='=':\n",
    "                matchMatrix[i1].append((k,'gap','=')) \n",
    "            elif t1!='=' and t2!='=' and t1!=t2:\n",
    "                matchMatrix[i1].append((k,'mismatch',t2))\n",
    "            elif t2!='=' and t1!='=' and t1==t2:\n",
    "                matchMatrix[i1].append((k,'match',t2))\n",
    "                \n",
    "    elif len(featureProfile[k]) <= len(featureProfile[BASE]):\n",
    "        for ii,((i1,t1),(i2,t2)) in enumerate(alignment[k]):\n",
    "            #判斷是否有在PB[0]之前就插入\n",
    "            if not isMeet1 and i2 == -1:\n",
    "                strBuf_list = [t1]\n",
    "                while alignment[k][ii+1][1][0] == -1:\n",
    "                    strBuf_list.append(alignment[k][ii+1][0][1])\n",
    "                    ii += 1\n",
    "                gapSeqList[0].append((k, strBuf_list))\n",
    "                isMeet1 = 1\n",
    "            else:\n",
    "                isMeet1 = 1\n",
    "            \n",
    "            #判斷PB[0]之後的情形\n",
    "            if t2=='=' and t1!='=' and isMeet1 and alignment[k][ii-1][1][0]!=-1:\n",
    "                lastIndex = alignment[k][ii-1][1][0]\n",
    "                strBuf_list = [t1]\n",
    "                try:\n",
    "                    while alignment[k][ii+1][1][0] == -1:\n",
    "                        strBuf_list.append(alignment[k][ii+1][0][1])\n",
    "                        ii += 1\n",
    "                except:\n",
    "                    pass\n",
    "                gapSeqList[lastIndex].append((k, strBuf_list))\n",
    "            elif t1=='=' and t2!='=':\n",
    "                matchMatrix[i2].append((k,'gap','=')) \n",
    "            elif t2!='=' and t1!='=' and t1!=t2:\n",
    "                matchMatrix[i2].append((k,'mismatch',t1))\n",
    "            elif t2!='=' and t1!='=' and t1==t2:\n",
    "                matchMatrix[i2].append((k,'match',t1))\n"
   ]
  },
  {
   "cell_type": "code",
   "execution_count": 30,
   "metadata": {
    "collapsed": false
   },
   "outputs": [
    {
     "name": "stdout",
     "output_type": "stream",
     "text": [
      "32abc951d6c707d2036c9e2a50e5fcb6_2868.trace.hooklog 7\n",
      "totalLen: 7\n",
      "2272d05b959f133bcf3e38c48ddbfcad_3256.trace.hooklog 7\n",
      "totalLen: 7\n",
      "a0ceb22ed87df9019f39c5c135a58c17_3228.trace.hooklog 7\n",
      "totalLen: 7\n",
      "b295318cdd0ad09baa1cdadf86b90fc1_3228.trace.hooklog 9\n",
      "totalLen: 9\n",
      "6123f4e765d6ba2bb4d9878de8f0598b_3200.trace.hooklog 7\n",
      "totalLen: 7\n",
      "03c009b451e012002513513a5d7e1b00_3444.trace.hooklog 6\n",
      "totalLen: 6\n",
      "c32e9387f94c67a39d4c35b111302b0b_3208.trace.hooklog 7\n",
      "totalLen: 7\n"
     ]
    }
   ],
   "source": [
    "# recheck data in structures are the same\n",
    "# use => alignment, gapSeqList, matchMatrix\n",
    "for k in alignment:\n",
    "    print k, len(featureProfile[k])\n",
    "    totalLen = 0\n",
    "    for i in gapSeqList:\n",
    "        for kin, l in gapSeqList[i]:\n",
    "            if k == kin:\n",
    "                totalLen += len(l)\n",
    "                break\n",
    "    for i in matchMatrix:\n",
    "        for kin, stat, api in matchMatrix[i]:\n",
    "            if k == kin and stat != 'gap':\n",
    "                totalLen += 1\n",
    "                break\n",
    "    print 'totalLen:', totalLen"
   ]
  },
  {
   "cell_type": "code",
   "execution_count": 31,
   "metadata": {
    "collapsed": true
   },
   "outputs": [],
   "source": [
    "# stageMatrix => stageMatrix_dict (merge first)\n",
    "# use => featureProfile, gapSeqList, matchMatrix\n",
    "\n",
    "stageMatrix = {k:[] for k in featureProfile}\n",
    "for i,k in enumerate(featureProfile):\n",
    "    strBuf_list = []\n",
    "    for ii in range(len(featureProfile[BASE])+1):\n",
    "        if ii == 0:\n",
    "            #有在gapSeqList的話就加入，k對應的list，否則加入gap\n",
    "            if len(gapSeqList[0]) > 0:\n",
    "                isGap = 1\n",
    "                for hk, l in gapSeqList[0]:\n",
    "                    if k == hk:\n",
    "                        stageMatrix[k].append(l)\n",
    "                        isGap = 0\n",
    "                        break\n",
    "                if isGap:\n",
    "                    stageMatrix[k].append(['=']) \n",
    "        else:\n",
    "            a = [api for hk, stat, api in matchMatrix[ii] if k==hk][0]\n",
    "            strBuf_list.append(a)\n",
    "            \n",
    "            if len(gapSeqList[ii]) > 0:\n",
    "                stageMatrix[k].append(strBuf_list)\n",
    "                strBuf_list = []       \n",
    "                \n",
    "                isGap = 1\n",
    "                for hk, l in gapSeqList[ii]:\n",
    "                    if k == hk:\n",
    "                        stageMatrix[k].append(l)\n",
    "                        isGap = 0\n",
    "                        break\n",
    "                if isGap:\n",
    "                    stageMatrix[k].append(['='])                     \n",
    "            else:\n",
    "                if ii <= len(matchMatrix)-1:\n",
    "                    curColStat_list = [stat for kin, stat, api in matchMatrix[ii]]\n",
    "                    nextColStat_list = [stat for kin, stat, api in matchMatrix[ii+1]]\n",
    "                    if curColStat_list != nextColStat_list:\n",
    "                        stageMatrix[k].append(strBuf_list)\n",
    "                        strBuf_list = []\n",
    "                    if curColStat_list == nextColStat_list and ii == len(matchMatrix)-1:\n",
    "                        stageMatrix[k].append(strBuf_list)\n",
    "\n",
    "# stageMatrix"
   ]
  },
  {
   "cell_type": "code",
   "execution_count": 23,
   "metadata": {
    "collapsed": false
   },
   "outputs": [],
   "source": [
    "# stageMatrix => stageMatrix_dict (transform multiple gap segment into one gap segment)\n",
    "\n",
    "for i,hk in enumerate(stageMatrix):\n",
    "    for ii,seg in enumerate(stageMatrix[hk]):\n",
    "        if set(seg) == set(['=']):\n",
    "            stageMatrix[hk][ii] = ['=']\n",
    "# 有必要？ bug?"
   ]
  },
  {
   "cell_type": "code",
   "execution_count": 38,
   "metadata": {
    "collapsed": false
   },
   "outputs": [
    {
     "name": "stdout",
     "output_type": "stream",
     "text": [
      "---1 featrureProfile fin ---\n",
      "\ttotal  7 Execution Traces (read alignment pickle)\n",
      "\tall pairwise alignment done.\n",
      "---2 alignment fin ---\n",
      "---3 match& gap fin ---\n",
      "---4 stageMatrix fin ---\n",
      "class stageMatrix, 897_.2407 (7), BASE = 03c009b451e012002513513a5d7e1b00_3444.trace.hooklog,\n",
      " path = data/family/897_.2407 (7), offset = 0, windows = 1\n",
      "set([])\n"
     ]
    }
   ],
   "source": [
    "%run \"testDef_stageMatrix.ipynb\"\n",
    "\n",
    "s = StageMatrix('897_.2407 (7)')\n",
    "# s.getFeatureProfile()\n",
    "# s.getAlignment()\n",
    "print s\n",
    "s1 = set(stageMatrix)\n",
    "s2 = set(s.getStageMatrix())\n",
    "print s1.symmetric_difference(s2)"
   ]
  }
 ],
 "metadata": {
  "kernelspec": {
   "display_name": "Python 2",
   "language": "python",
   "name": "python2"
  },
  "language_info": {
   "codemirror_mode": {
    "name": "ipython",
    "version": 2
   },
   "file_extension": ".py",
   "mimetype": "text/x-python",
   "name": "python",
   "nbconvert_exporter": "python",
   "pygments_lexer": "ipython2",
   "version": "2.7.11"
  }
 },
 "nbformat": 4,
 "nbformat_minor": 0
}
