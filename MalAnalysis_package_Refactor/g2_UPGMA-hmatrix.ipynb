{
 "cells": [
  {
   "cell_type": "markdown",
   "metadata": {},
   "source": [
    "## UPGMA for hooklog and Grouping\n",
    "Read (jaccard) matrix from pickle and plot upgam.\n",
    "\n",
    "Run parser-hooklog-matrix & parser-w32_mal_report-hooklogs first!"
   ]
  },
  {
   "cell_type": "markdown",
   "metadata": {},
   "source": [
    "### Read pickle"
   ]
  },
  {
   "cell_type": "code",
   "execution_count": 1,
   "metadata": {
    "collapsed": false
   },
   "outputs": [
    {
     "name": "stdout",
     "output_type": "stream",
     "text": [
      "hmatrix-zusy_-par_w1.pickle upgma-zusy_-par-w1-t0.4.pdf upgma-zusy_-par-w1-t0.4-gm0.pickle\n"
     ]
    }
   ],
   "source": [
    "parameter = True\n",
    "windows = 1\n",
    "upgma_threshold = 0.4\n",
    "group_member_limit = 0\n",
    "tag = \"zusy_\"\n",
    "pickle_file_name = \"hmatrix-%s-%s_w%d.pickle\" % (tag, 'par' if parameter else 'nopar', windows)\n",
    "save_file_name = \"upgma-%s-%s-w%d-t%0.1f.pdf\" % (tag, 'par' if parameter else 'nopar', windows, upgma_threshold)\n",
    "group_member_file_name = \"upgma-%s-%s-w%d-t%0.1f-gm%d.pickle\" % (tag, 'par' if parameter else 'nopar', windows, upgma_threshold, group_member_limit)\n",
    "print pickle_file_name, save_file_name, group_member_file_name"
   ]
  },
  {
   "cell_type": "code",
   "execution_count": 2,
   "metadata": {
    "collapsed": false
   },
   "outputs": [],
   "source": [
    "import pickle\n",
    "import os\n",
    "\n",
    "with open('pickle/av_list-mal_dict-proc_list_'+ tag +'.pickle', 'rb') as f:\n",
    "    data = pickle.load(f)\n",
    "proc_list = data[2]\n",
    "\n",
    "with open('pickle/' + pickle_file_name, 'rb') as f:\n",
    "    hmatrix = pickle.load(f)"
   ]
  },
  {
   "cell_type": "code",
   "execution_count": 3,
   "metadata": {
    "collapsed": false
   },
   "outputs": [
    {
     "name": "stdout",
     "output_type": "stream",
     "text": [
      "8 8\n"
     ]
    }
   ],
   "source": [
    "#MIKE: filter proc_list here, if needed\n",
    "p_list = proc_list\n",
    "\n",
    "label_list = list()\n",
    "for i in range(len(p_list)):\n",
    "    digit = p_list[i][0:5]\n",
    "    idx = 0\n",
    "    for [d,x] in label_list:\n",
    "        if d == digit:\n",
    "            idx += 1\n",
    "    label_list.append([digit, idx])\n",
    "\n",
    "for i in range(len(label_list)):\n",
    "    [digit, idx] = label_list[i]\n",
    "    label_list[i] = digit + '-' + str(idx)\n",
    "\n",
    "print len(p_list), len(label_list)"
   ]
  },
  {
   "cell_type": "markdown",
   "metadata": {},
   "source": [
    "### UPGMA"
   ]
  },
  {
   "cell_type": "code",
   "execution_count": 4,
   "metadata": {
    "collapsed": false
   },
   "outputs": [],
   "source": [
    "import scipy\n",
    "import scipy.cluster.hierarchy as sch\n",
    "import matplotlib.pylab as plt\n",
    "%matplotlib inline\n",
    "\n",
    "matrix = [[0 for x in range(len(p_list))] for x in range(len(p_list))]\n",
    "\n",
    "for i in p_list: # for each process we select\n",
    "    idx_i = proc_list.index(i) # the idx in orig proc_list\n",
    "    for j in p_list:\n",
    "        idx_j = proc_list.index(j)\n",
    "        matrix[p_list.index(i)][p_list.index(j)] = 1.0 - (hmatrix[idx_i][idx_j] if i<=j else hmatrix[idx_j][idx_i])"
   ]
  },
  {
   "cell_type": "code",
   "execution_count": 5,
   "metadata": {
    "collapsed": false
   },
   "outputs": [
    {
     "data": {
      "image/png": "[encoded data removed]",
      "text/plain": [
       "<matplotlib.figure.Figure at 0x11007bc50>"
      ]
     },
     "metadata": {},
     "output_type": "display_data"
    }
   ],
   "source": [
    "(orig_x, orig_y) = plt.rcParams['figure.figsize']\n",
    "plt.rcParams['figure.figsize'] = (6, 17)\n",
    "\n",
    "D = scipy.spatial.distance.squareform(matrix)\n",
    "Z = sch.linkage(D, method='average')\n",
    "#MIKE: Hack the height of tree, make sure we \n",
    "for z in Z:\n",
    "    if z[2] < 0.002: z[2] = 0.002\n",
    "P = sch.dendrogram(Z, color_threshold = upgma_threshold, labels = label_list, orientation = 'right')\n",
    "\n",
    "plt.axvline(x=upgma_threshold, linewidth=1, color='black', linestyle='--')\n",
    "#plt.xlim(0.7, 0.0)\n",
    "#plt.ylabel('Distance')\n",
    "locs, labels = plt.yticks()\n",
    "plt.setp(labels, fontsize = 4)\n",
    "plt.tight_layout()\n",
    "\n",
    "plt.rcParams['figure.figsize'] = (orig_x, orig_y)\n",
    "plt.savefig('output/'+save_file_name, dpi=300)"
   ]
  },
  {
   "cell_type": "markdown",
   "metadata": {},
   "source": [
    "### Grouping"
   ]
  },
  {
   "cell_type": "code",
   "execution_count": 6,
   "metadata": {
    "collapsed": false
   },
   "outputs": [],
   "source": [
    "group_dict = dict() # dict[current node] = (height, member set)\n",
    "num_leaves = len(P['leaves'])\n",
    "\n",
    "for l in range(num_leaves):\n",
    "    curr_set = set()\n",
    "    curr_set.add(l)\n",
    "    group_dict[l] = (-1.0, curr_set)\n",
    "\n",
    "next_group = num_leaves\n",
    "for z in Z:\n",
    "    a = int(z[0])\n",
    "    b = int(z[1])\n",
    "    h = z[2]\n",
    "        \n",
    "    if h > upgma_threshold:\n",
    "        continue\n",
    "        \n",
    "    #print a, b, '=>', next_group, '@', h\n",
    "    \n",
    "    # merge a and b to next_group\n",
    "    curr_set = group_dict[a][1].union(group_dict[b][1])\n",
    "    group_dict[next_group] = (h, curr_set)\n",
    "    # remove a and b\n",
    "    del group_dict[a]\n",
    "    del group_dict[b]\n",
    "    next_group += 1"
   ]
  },
  {
   "cell_type": "code",
   "execution_count": 7,
   "metadata": {
    "collapsed": false
   },
   "outputs": [
    {
     "name": "stdout",
     "output_type": "stream",
     "text": [
      "Total 4 groups @ threshold =  0.4\n",
      "== group 1 head 808ab-1 @ -1.000000 size 1 unique 1 malware\n",
      "== group 5 head 83356-1 @ -1.000000 size 1 unique 1 malware\n",
      "== group 10 head 10 @ 0.087438 size 4 unique 4 malware\n",
      "== group 11 head 11 @ 0.333333 size 2 unique 2 malware\n",
      "total malware 8 but 8 group by group\n"
     ]
    }
   ],
   "source": [
    "print 'Total', len(group_dict), 'groups @ threshold = ', upgma_threshold\n",
    "\n",
    "group_member_dict = dict()\n",
    "g_set = set()\n",
    "m_count = 0\n",
    "for g in group_dict:\n",
    "    node_name = P['ivl'][P['leaves'].index(g)] if g < num_leaves else g\n",
    "    o = \"== group %d head %s @ %f size %d\" % (g, node_name, group_dict[g][0], len(group_dict[g][1]))\n",
    "    m_set = set()\n",
    "    for m in group_dict[g][1]:\n",
    "        if m < num_leaves:\n",
    "            member_name = P['ivl'][P['leaves'].index(m)]\n",
    "            m_set.add(member_name)\n",
    "            g_set.add(member_name)\n",
    "        else:\n",
    "            member_name = m\n",
    "        #print '  process', m, member_name\n",
    "    o += \" unique %d malware\" % (len(m_set))\n",
    "    m_count += len(m_set)\n",
    "    \n",
    "    # output\n",
    "    print o\n",
    "    if len(m_set) > group_member_limit: #MIKE: group that has > ? members\n",
    "        li = list()\n",
    "        for m in m_set:\n",
    "            li.append(p_list[label_list.index(m)])\n",
    "        group_member_dict[g] = (group_dict[g][0], li)\n",
    "\n",
    "print 'total malware', len(g_set), 'but', m_count, 'group by group'"
   ]
  },
  {
   "cell_type": "code",
   "execution_count": 8,
   "metadata": {
    "collapsed": true
   },
   "outputs": [],
   "source": [
    "GIL = (group_dict, P['ivl'], P['leaves'], upgma_threshold, windows)\n",
    "\n",
    "import pickle\n",
    "with open('pickle/group-ivl-leaves-th.pickle', 'wb') as o:\n",
    "    pickle.dump(GIL, o)"
   ]
  },
  {
   "cell_type": "code",
   "execution_count": 9,
   "metadata": {
    "collapsed": false
   },
   "outputs": [],
   "source": [
    "import pickle\n",
    "# dict = {group_number: (height, [memberlist])}\n",
    "with open('pickle/'+group_member_file_name, 'wb') as o:\n",
    "    pickle.dump(group_member_dict, o)"
   ]
  },
  {
   "cell_type": "code",
   "execution_count": 10,
   "metadata": {
    "collapsed": false
   },
   "outputs": [
    {
     "name": "stdout",
     "output_type": "stream",
     "text": [
      "4\n"
     ]
    },
    {
     "data": {
      "text/plain": [
       "{1: (-1.0, ['808ab4f1cca8091b05d26f15f775c525_3140']),\n",
       " 5: (-1.0, ['833562ee3e3a2569fe42a303d5619464_3088']),\n",
       " 10: (0.087438424999999986,\n",
       "  ['c3ea3ad31e662953f0fcd1c62c50b130_3212',\n",
       "   'c3ea3ad31e662953f0fcd1c62c50b130_3156',\n",
       "   '82cf1e67ed155da7e89fc4f49b97050d_3228',\n",
       "   '82cf1e67ed155da7e89fc4f49b97050d_3288']),\n",
       " 11: (0.33333332999999998,\n",
       "  ['808ab4f1cca8091b05d26f15f775c525_3120',\n",
       "   '833562ee3e3a2569fe42a303d5619464_3036'])}"
      ]
     },
     "execution_count": 10,
     "metadata": {},
     "output_type": "execute_result"
    }
   ],
   "source": [
    "print len(group_member_dict)\n",
    "group_member_dict"
   ]
  }
 ],
 "metadata": {
  "kernelspec": {
   "display_name": "Python 2",
   "language": "python",
   "name": "python2"
  },
  "language_info": {
   "codemirror_mode": {
    "name": "ipython",
    "version": 2
   },
   "file_extension": ".py",
   "mimetype": "text/x-python",
   "name": "python",
   "nbconvert_exporter": "python",
   "pygments_lexer": "ipython2",
   "version": "2.7.11"
  }
 },
 "nbformat": 4,
 "nbformat_minor": 0
}
