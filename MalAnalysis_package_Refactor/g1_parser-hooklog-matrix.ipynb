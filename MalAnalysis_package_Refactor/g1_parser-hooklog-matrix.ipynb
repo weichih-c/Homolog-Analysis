{
 "cells": [
  {
   "cell_type": "markdown",
   "metadata": {},
   "source": [
    "### Calcuate Jaccard matrix for all hooklogs\n",
    "And save them into pickle"
   ]
  },
  {
   "cell_type": "code",
   "execution_count": 1,
   "metadata": {
    "collapsed": false
   },
   "outputs": [
    {
     "name": "stdout",
     "output_type": "stream",
     "text": [
      "hmatrix-zusy_-par_w1.pickle\n"
     ]
    }
   ],
   "source": [
    "parameter = True\n",
    "windows = 1\n",
    "tag = 'zusy_' # any word you want to put in pickle file name, for example, data set name of malware family name\n",
    "hooklog_dir = 'data/' + tag + 'hooklogs/'\n",
    "pickle_file_name = \"hmatrix-%s-%s_w%d.pickle\" % (tag, 'par' if parameter else 'nopar', windows)\n",
    "print pickle_file_name"
   ]
  },
  {
   "cell_type": "markdown",
   "metadata": {},
   "source": [
    "### Import private class\n",
    "It can be changed to import if .py is provided"
   ]
  },
  {
   "cell_type": "code",
   "execution_count": 2,
   "metadata": {
    "collapsed": false
   },
   "outputs": [],
   "source": [
    "%run classes/parser/Hooklog.ipynb\n",
    "#import classes.Hooklog as cH"
   ]
  },
  {
   "cell_type": "code",
   "execution_count": 3,
   "metadata": {
    "collapsed": false
   },
   "outputs": [],
   "source": [
    "import pickle\n",
    "\n",
    "with open('pickle/av_list-mal_dict-proc_list_'+tag+'.pickle', 'rb') as f:\n",
    "    data = pickle.load(f)\n",
    "proc_list = data[2]"
   ]
  },
  {
   "cell_type": "markdown",
   "metadata": {},
   "source": [
    "### Jaccard Matrix\n",
    "helf matrix is good enough."
   ]
  },
  {
   "cell_type": "code",
   "execution_count": 4,
   "metadata": {
    "collapsed": false
   },
   "outputs": [
    {
     "name": "stdout",
     "output_type": "stream",
     "text": [
      "matrix size: 64\n"
     ]
    }
   ],
   "source": [
    "matrix  = [[0 for x in range(len(proc_list))] for x in range(len(proc_list))] \n",
    "print 'matrix size:', len(proc_list) * len(proc_list)"
   ]
  },
  {
   "cell_type": "code",
   "execution_count": 5,
   "metadata": {
    "collapsed": false
   },
   "outputs": [],
   "source": [
    "for i in range(len(proc_list)):\n",
    "    try:\n",
    "        h1 = Hooklog(hooklog_dir + proc_list[i] + '.trace.hooklog', parameter)\n",
    "        h1_set = h1.getWinSet(windows)\n",
    "\n",
    "        for j in range(i, len(proc_list)):\n",
    "            if i == j:\n",
    "                matrix[i][j] = 1.0\n",
    "            else: # if i < j:\n",
    "                h2 = Hooklog(hooklog_dir + proc_list[j] + '.trace.hooklog', parameter)\n",
    "                h2_set = h2.getWinSet(windows)\n",
    "\n",
    "                inter = len(h1_set.intersection(h2_set))\n",
    "                union = len(h1_set.union(h2_set))\n",
    "\n",
    "                matrix[i][j] = round(float(inter)/float(union), 8) if union != 0 else 0.0\n",
    "    except:\n",
    "        print h1"
   ]
  },
  {
   "cell_type": "code",
   "execution_count": 6,
   "metadata": {
    "collapsed": false
   },
   "outputs": [],
   "source": [
    "with open('pickle/' + pickle_file_name, 'wb') as o:\n",
    "    pickle.dump(matrix, o)"
   ]
  },
  {
   "cell_type": "code",
   "execution_count": 7,
   "metadata": {
    "collapsed": false
   },
   "outputs": [
    {
     "name": "stdout",
     "output_type": "stream",
     "text": [
      "class Hooklog, data/zusy_hooklogs/c3ea3ad31e662953f0fcd1c62c50b130_3212.trace.hooklog, par = 1, len = 31, digit name = c3ea3a-3212\n"
     ]
    }
   ],
   "source": [
    "print h2"
   ]
  }
 ],
 "metadata": {
  "kernelspec": {
   "display_name": "Python 2",
   "language": "python",
   "name": "python2"
  },
  "language_info": {
   "codemirror_mode": {
    "name": "ipython",
    "version": 2
   },
   "file_extension": ".py",
   "mimetype": "text/x-python",
   "name": "python",
   "nbconvert_exporter": "python",
   "pygments_lexer": "ipython2",
   "version": "2.7.11"
  }
 },
 "nbformat": 4,
 "nbformat_minor": 0
}
