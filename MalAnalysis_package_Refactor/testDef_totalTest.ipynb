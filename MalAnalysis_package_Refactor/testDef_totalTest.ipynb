{
 "cells": [
  {
   "cell_type": "code",
   "execution_count": 1,
   "metadata": {
    "collapsed": true
   },
   "outputs": [
    {
     "name": "stdout",
     "output_type": "stream",
     "text": [
      "---1 featrureProfile fin ---\n",
      "\ttotal  7 Execution Traces (read alignment pickle)\n",
      "\tall pairwise alignment done.\n",
      "---2 alignment fin ---\n",
      "---3 match& gap fin ---\n",
      "---4 stageMatrix fin ---\n",
      "\ttotal segment #:  5\n",
      "---5 setMotif fin ---\n"
     ]
    }
   ],
   "source": [
    "family_name='897_.2407 (7)'\n",
    "\n",
    "%run \"1_testDef_stageMatrix.ipynb\"\n",
    "claStageMatrix = StageMatrix(family_name)"
   ]
  },
  {
   "cell_type": "code",
   "execution_count": null,
   "metadata": {
    "collapsed": true
   },
   "outputs": [],
   "source": [
    "%run \"1_stageMatrix.ipynb\"\n",
    "%run \"2_output.ipynb\"\n",
    "%run \"3_comAnalysis.ipynb\"\n",
    "%run \"4_outputComAnalysis.ipynb\"\n",
    "\n",
    "for family_name in family_list:\n",
    "    \n",
    "    claStageMatrix = StageMatrix(family_name)             # step_1\n",
    "    claOutStage = OutputStage( claStageMatrix )           # step_2\n",
    "    OutputMotiGraph (claStageMatrix, claOutStage)\n",
    "    motiDict = MotiDict(claStageMatrix, claOutStage)      # step_3 \n",
    "    comMot = motiDict.getComMoti()\n",
    "    comResAnalysis = ComResAnalysis(comMot)\n",
    "    OutputCsv(comResAnalysis, claStageMatrix, claOutStage)# step_4"
   ]
  },
  {
   "cell_type": "code",
   "execution_count": 6,
   "metadata": {
    "collapsed": true
   },
   "outputs": [
    {
     "name": "stdout",
     "output_type": "stream",
     "text": [
      "--- 1 node built fin---\n",
      "\t0 stage \t1 stage \t2 stage \t3 stage \n",
      "\tgap:  M2\n",
      "--- 2 node connect fin---\n",
      "--- 3 set label fin---\n",
      "--- 4 save output fin---\n",
      "--- 1 save featureProfile Plot fin---\n",
      "--- 2 save MotifLen Prob Plot fin---\n",
      "--- 3 save Distinct motif Plot fin---\n"
     ]
    },
    {
     "data": {
      "text/plain": [
       "<__main__.OutputMotiGraph instance at 0x7f9573135b48>"
      ]
     },
     "execution_count": 6,
     "metadata": {},
     "output_type": "execute_result"
    }
   ],
   "source": [
    "%run \"2_testDef_output.ipynb\"\n",
    "claOutStage = OutputStage( claStageMatrix )\n",
    "OutputMotiGraph (claStageMatrix, claOutStage)"
   ]
  },
  {
   "cell_type": "code",
   "execution_count": 3,
   "metadata": {
    "collapsed": true
   },
   "outputs": [
    {
     "name": "stdout",
     "output_type": "stream",
     "text": [
      "--- 1 set CommontMotif dict fin---\n",
      "--- 2 set DistinctMotif dict fin---\n",
      "--- 1 set API fin---\n",
      "--- 2 set SC_API res fin---\n",
      "\ttest for codeblock\n",
      "--- 3 check Motif subset---\n",
      "--- 4 set Res Statistics---\n",
      "--- 5 set Winnow res---\n"
     ]
    }
   ],
   "source": [
    "%run \"3_testDef_comAnalysis.ipynb\"\n",
    "motiDict = MotiDict(claStageMatrix, claOutStage)\n",
    "comMot = motiDict.getComMoti()\n",
    "\n",
    "comResAnalysis = ComResAnalysis(comMot)\n"
   ]
  },
  {
   "cell_type": "code",
   "execution_count": 29,
   "metadata": {
    "collapsed": true
   },
   "outputs": [
    {
     "data": {
      "text/plain": [
       "<__main__.OutputMotiAnaly instance at 0x7fc1350cd878>"
      ]
     },
     "execution_count": 29,
     "metadata": {},
     "output_type": "execute_result"
    }
   ],
   "source": [
    "%run \"4_testDef_outputComAnalysis.ipynb\"\n",
    "OutputCsv(comResAnalysis, claStageMatrix, claOutStage)"
   ]
  }
 ],
 "metadata": {
  "kernelspec": {
   "display_name": "Python 2",
   "language": "python",
   "name": "python2"
  },
  "language_info": {
   "codemirror_mode": {
    "name": "ipython",
    "version": 2
   },
   "file_extension": ".py",
   "mimetype": "text/x-python",
   "name": "python",
   "nbconvert_exporter": "python",
   "pygments_lexer": "ipython2",
   "version": "2.7.11"
  }
 },
 "nbformat": 4,
 "nbformat_minor": 0
}
