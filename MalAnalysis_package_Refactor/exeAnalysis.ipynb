{
 "cells": [
  {
   "cell_type": "code",
   "execution_count": 30,
   "metadata": {
    "collapsed": true
   },
   "outputs": [
    {
     "name": "stdout",
     "output_type": "stream",
     "text": [
      "no such transformation WinHttpOpen pwszUserAgent\n",
      "no such transformation WinHttpConnect pswzServerName\n",
      "no such transformation WinHttpOpenRequest pwszObjectName\n",
      "no such transformation WinHttpSendRequest pwszHeaders\n",
      "no such transformation WinHttpOpen pwszUserAgent\n",
      "no such transformation WinHttpConnect pswzServerName\n",
      "no such transformation WinHttpOpenRequest pwszObjectName\n",
      "no such transformation WinHttpSendRequest pwszHeaders\n",
      "no such transformation WinHttpOpen pwszUserAgent\n",
      "no such transformation WinHttpConnect pswzServerName\n",
      "no such transformation WinHttpOpenRequest pwszObjectName\n",
      "no such transformation WinHttpSendRequest pwszHeaders\n",
      "no such transformation WinHttpOpen pwszUserAgent\n",
      "no such transformation WinHttpConnect pswzServerName\n",
      "no such transformation WinHttpOpenRequest pwszObjectName\n",
      "no such transformation WinHttpSendRequest pwszHeaders\n",
      "no such transformation WinHttpOpen pwszUserAgent\n",
      "no such transformation WinHttpConnect pswzServerName\n",
      "no such transformation WinHttpOpenRequest pwszObjectName\n",
      "no such transformation WinHttpSendRequest pwszHeaders\n",
      "no such transformation WinHttpOpen pwszUserAgent\n",
      "no such transformation WinHttpConnect pswzServerName\n",
      "no such transformation WinHttpOpenRequest pwszObjectName\n",
      "no such transformation WinHttpSendRequest pwszHeaders\n",
      "no such transformation WinHttpOpen pwszUserAgent\n",
      "no such transformation WinHttpConnect pswzServerName\n",
      "no such transformation WinHttpOpenRequest pwszObjectName\n",
      "no such transformation WinHttpSendRequest pwszHeaders\n",
      "no such transformation WinHttpOpen pwszUserAgent\n",
      "no such transformation WinHttpConnect pswzServerName\n",
      "no such transformation WinHttpOpenRequest pwszObjectName\n",
      "no such transformation WinHttpSendRequest pwszHeaders\n",
      "no such transformation WinHttpOpen pwszUserAgent\n",
      "no such transformation WinHttpConnect pswzServerName\n",
      "no such transformation WinHttpOpenRequest pwszObjectName\n",
      "no such transformation WinHttpSendRequest pwszHeaders\n",
      "no such transformation WinHttpOpen pwszUserAgent\n",
      "no such transformation WinHttpConnect pswzServerName\n",
      "no such transformation WinHttpOpenRequest pwszObjectName\n",
      "no such transformation WinHttpSendRequest pwszHeaders\n",
      "no such transformation WinHttpOpen pwszUserAgent\n",
      "no such transformation WinHttpConnect pswzServerName\n",
      "no such transformation WinHttpOpenRequest pwszObjectName\n",
      "no such transformation WinHttpSendRequest pwszHeaders\n",
      "no such transformation WinHttpOpen pwszUserAgent\n",
      "no such transformation WinHttpConnect pswzServerName\n",
      "no such transformation WinHttpOpenRequest pwszObjectName\n",
      "no such transformation WinHttpSendRequest pwszHeaders\n",
      "no such transformation WinHttpOpen pwszUserAgent\n",
      "no such transformation WinHttpConnect pswzServerName\n",
      "no such transformation WinHttpOpenRequest pwszObjectName\n",
      "no such transformation WinHttpSendRequest pwszHeaders\n",
      "no such transformation WinHttpOpen pwszUserAgent\n",
      "no such transformation WinHttpConnect pswzServerName\n",
      "no such transformation WinHttpOpenRequest pwszObjectName\n",
      "no such transformation WinHttpSendRequest pwszHeaders\n",
      "no such transformation WinHttpOpen pwszUserAgent\n",
      "no such transformation WinHttpConnect pswzServerName\n",
      "no such transformation WinHttpOpenRequest pwszObjectName\n",
      "no such transformation WinHttpSendRequest pwszHeaders\n",
      "no such transformation WinHttpOpen pwszUserAgent\n",
      "no such transformation WinHttpConnect pswzServerName\n",
      "no such transformation WinHttpOpenRequest pwszObjectName\n",
      "no such transformation WinHttpSendRequest pwszHeaders\n",
      "no such transformation WinHttpOpen pwszUserAgent\n",
      "no such transformation WinHttpConnect pswzServerName\n",
      "no such transformation WinHttpOpenRequest pwszObjectName\n",
      "no such transformation WinHttpSendRequest pwszHeaders\n",
      "no such transformation WinHttpOpen pwszUserAgent\n",
      "no such transformation WinHttpConnect pswzServerName\n",
      "no such transformation WinHttpOpenRequest pwszObjectName\n",
      "no such transformation WinHttpSendRequest pwszHeaders\n",
      "no such transformation WinHttpOpen pwszUserAgent\n",
      "no such transformation WinHttpConnect pswzServerName\n",
      "no such transformation WinHttpOpenRequest pwszObjectName\n",
      "no such transformation WinHttpSendRequest pwszHeaders\n",
      "no such transformation WinHttpOpen pwszUserAgent\n",
      "no such transformation WinHttpConnect pswzServerName\n",
      "no such transformation WinHttpOpenRequest pwszObjectName\n",
      "no such transformation WinHttpSendRequest pwszHeaders\n",
      "no such transformation WinHttpOpen pwszUserAgent\n",
      "no such transformation WinHttpConnect pswzServerName\n",
      "no such transformation WinHttpOpenRequest pwszObjectName\n",
      "no such transformation WinHttpSendRequest pwszHeaders\n",
      "--- 1 featrureProfile fin ---\n",
      "\ttotal  32 Execution Traces (read alignment pickle)\n",
      "\tall pairwise alignment done.\n",
      "--- 2 alignment fin ---\n",
      "--- 3 match& gap fin ---\n",
      "--- 4 stageMatrix fin ---\n",
      "\ttotal segment #:  248\n",
      "--- 5 setMotif fin ---\n",
      "--- 1 node built fin---\n",
      "\t0 stage \t1 stage \t2 stage \t3 stage \t4 stage \t5 stage \t6 stage \t7 stage \t8 stage \t9 stage \t10 stage \t11 stage \t12 stage \t13 stage \t14 stage \t15 stage \t16 stage \t17 stage \t18 stage \t19 stage \t20 stage \t21 stage \t22 stage \t23 stage \t24 stage \t25 stage \t26 stage \t27 stage \t28 stage \t29 stage \t30 stage \t31 stage \t32 stage \t33 stage \t34 stage \t35 stage \t36 stage \t37 stage \t38 stage \t39 stage \t40 stage \t41 stage \t42 stage \t43 stage \t44 stage \t45 stage \t46 stage \t47 stage \t48 stage \t49 stage \t50 stage \t51 stage \t52 stage \t53 stage \t54 stage \t55 stage \t56 stage \t57 stage \t58 stage \t59 stage \t60 stage \t61 stage \t62 stage \t63 stage \t64 stage \t65 stage \t66 stage \t67 stage \t68 stage \t69 stage \t70 stage \t71 stage \t72 stage \t73 stage \t74 stage \t75 stage \t76 stage \t77 stage \t78 stage \t79 stage \t80 stage \t81 stage \t82 stage \t83 stage \t84 stage \t85 stage \t86 stage \t87 stage \t88 stage \t89 stage \t90 stage \t91 stage \t92 stage \t93 stage \t94 stage \t95 stage \t96 stage \t97 stage \n",
      "\tgap:  M2\n",
      "--- 2 node connect fin---\n",
      "--- 3 set label fin---\n",
      "--- 4 save output fin---\n",
      "--- 1 save featureProfile Plot fin---\n",
      "--- 2 save MotifLen Prob Plot fin---\n",
      "--- 3 save Distinct motif Plot fin---\n",
      "--- 1 set CommontMotif dict fin---\n",
      "--- 2 set DistinctMotif dict fin---\n",
      "--- 1 set API fin---\n",
      "--- 2 set SC_API res fin---\n",
      "\ttest for codeblock\n",
      "--- 3 check Motif subset---\n",
      "--- 4 set Res Statistics---\n",
      "--- 5 set Winnow res---\n",
      "--- 1.1 output StageMotiCsv---\n",
      "--- 1.2 output TotalResCsv---\n",
      "--- 2.1 output CatGraph---\n",
      "--- 2.2 output ComMotiDetailAPI---\n",
      "--- 2.3 output ResAPIcatStatCsv---\n"
     ]
    },
    {
     "data": {
      "text/plain": [
       "<__main__.OutputComMotiAnaly instance at 0x7fec87c60b00>"
      ]
     },
     "execution_count": 30,
     "metadata": {},
     "output_type": "execute_result"
    }
   ],
   "source": [
    "# run every group\n",
    "family_name='904_.3094 (32)'\n",
    "\n",
    "%run \"a1_stageMatrix.ipynb\"\n",
    "claStageMatrix = StageMatrix(family_name)\n",
    "\n",
    "%run \"a2_output.ipynb\"\n",
    "claOutStage = OutputStage( claStageMatrix )\n",
    "OutputMotiGraph (claStageMatrix, claOutStage)\n",
    "\n",
    "%run \"a3_comAnalysis.ipynb\"\n",
    "motiDict = MotiDict(claStageMatrix, claOutStage)\n",
    "comMot = motiDict.getComMoti()\n",
    "comResAnalysis = ComResAnalysis(comMot)\n",
    "\n",
    "%run \"a4_outputComAnalysis.ipynb\"\n",
    "OutputCsv(comResAnalysis, claStageMatrix, claOutStage)\n",
    "OutputComMotiAnaly(comResAnalysis, claStageMatrix)"
   ]
  },
  {
   "cell_type": "code",
   "execution_count": 44,
   "metadata": {
    "collapsed": false
   },
   "outputs": [
    {
     "name": "stdout",
     "output_type": "stream",
     "text": [
      "['cookies', 'cache', 'lpk.dll', 'gdi32.dll', 'uncasintranet', 'imm32.dll', '1968', 'parameters', '1732', 'rundll32.exe', 'user shell folders', 'comctl32.dll', '1096', 'shell folders', 'proxybypass', 'secur32.dll', '3176', 'intranetname', 'windowsshell.manifest', 'wuauclt.exe', 'malware.exe', '2020', 'shell32.dll', 'jusched.exe']\n",
      "{'cookies': [(13, 4)], 'cache': [(13, 4)], 'lpk.dll': [(1, 1)], 'gdi32.dll': [(1, 1)], 'uncasintranet': [(13, 4), (13, 4)], 'imm32.dll': [(1, 1)], '1968': [(5, 2)], 'parameters': [(8, 4), (8, 4), (8, 4), (8, 4), (8, 4), (8, 4), (8, 4), (8, 4), (8, 4), (8, 4), (8, 4), (8, 4), (8, 4), (8, 4), (8, 4), (8, 4)], '1732': [(6, 2)], 'rundll32.exe': [(5, 2)], 'user shell folders': [(13, 4), (13, 4), (13, 4), (13, 4)], 'comctl32.dll': [(2, 1), (13, 1)], '1096': [(4, 2)], 'shell folders': [(13, 4), (13, 4), (13, 4), (13, 4)], 'proxybypass': [(13, 4), (13, 4)], 'secur32.dll': [(13, 1)], '3176': [(7, 2)], 'intranetname': [(13, 4), (13, 4)], 'windowsshell.manifest': [(2, 3)], 'wuauclt.exe': [(6, 2)], 'malware.exe': [(3, 3), (3, 3), (3, 3), (3, 3), (7, 2), (13, 4), (13, 4), (13, 4), (13, 4), (13, 4), (13, 4), (13, 4), (13, 4), (13, 4), (13, 4), (13, 4), (13, 4)], '2020': [(6, 2)], 'shell32.dll': [(11, 4), (13, 1)], 'jusched.exe': [(6, 2)]}\n",
      "Input variables extracted above:malware.exe\n",
      "malware.exe done!\n"
     ]
    },
    {
     "ename": "KeyboardInterrupt",
     "evalue": "",
     "output_type": "error",
     "traceback": [
      "\u001b[1;31m---------------------------------------------------------------------------\u001b[0m",
      "\u001b[1;31mKeyboardInterrupt\u001b[0m                         Traceback (most recent call last)",
      "\u001b[1;32m<ipython-input-44-7a3bc33f88f3>\u001b[0m in \u001b[0;36m<module>\u001b[1;34m()\u001b[0m\n\u001b[0;32m      1\u001b[0m \u001b[0mget_ipython\u001b[0m\u001b[1;33m(\u001b[0m\u001b[1;33m)\u001b[0m\u001b[1;33m.\u001b[0m\u001b[0mmagic\u001b[0m\u001b[1;33m(\u001b[0m\u001b[1;34mu'run \"a5_defChain.ipynb\"'\u001b[0m\u001b[1;33m)\u001b[0m\u001b[1;33m\u001b[0m\u001b[0m\n\u001b[1;32m----> 2\u001b[1;33m \u001b[0mOutputResDefChain\u001b[0m\u001b[1;33m(\u001b[0m\u001b[0mcomResAnalysis\u001b[0m\u001b[1;33m,\u001b[0m \u001b[0mclaStageMatrix\u001b[0m\u001b[1;33m)\u001b[0m\u001b[1;33m\u001b[0m\u001b[0m\n\u001b[0m",
      "\u001b[1;32m<ipython-input-44-c7fb927e20ce>\u001b[0m in \u001b[0;36m__init__\u001b[1;34m(self, claMotiAnaly, claStageMatrix)\u001b[0m\n\u001b[0;32m     22\u001b[0m         \u001b[1;32mprint\u001b[0m \u001b[0mself\u001b[0m\u001b[1;33m.\u001b[0m\u001b[0mwinRes2poli\u001b[0m\u001b[1;33m\u001b[0m\u001b[0m\n\u001b[0;32m     23\u001b[0m         \u001b[1;32mwhile\u001b[0m \u001b[0mTrue\u001b[0m\u001b[1;33m:\u001b[0m\u001b[1;33m\u001b[0m\u001b[0m\n\u001b[1;32m---> 24\u001b[1;33m             \u001b[0mself\u001b[0m\u001b[1;33m.\u001b[0m\u001b[0m__resDefChain\u001b[0m\u001b[1;33m(\u001b[0m\u001b[1;33m)\u001b[0m\u001b[1;33m\u001b[0m\u001b[0m\n\u001b[0m\u001b[0;32m     25\u001b[0m \u001b[1;33m\u001b[0m\u001b[0m\n\u001b[0;32m     26\u001b[0m \u001b[1;33m\u001b[0m\u001b[0m\n",
      "\u001b[1;32m<ipython-input-44-c7fb927e20ce>\u001b[0m in \u001b[0;36m__resDefChain\u001b[1;34m(self)\u001b[0m\n\u001b[0;32m     35\u001b[0m         \u001b[0mtype2API_dict\u001b[0m \u001b[1;33m=\u001b[0m \u001b[0mself\u001b[0m\u001b[1;33m.\u001b[0m\u001b[0mtype2API\u001b[0m\u001b[1;33m\u001b[0m\u001b[0m\n\u001b[0;32m     36\u001b[0m \u001b[1;33m\u001b[0m\u001b[0m\n\u001b[1;32m---> 37\u001b[1;33m         \u001b[0mvar\u001b[0m \u001b[1;33m=\u001b[0m \u001b[0mraw_input\u001b[0m\u001b[1;33m(\u001b[0m\u001b[1;34m'Input variables extracted above:'\u001b[0m\u001b[1;33m)\u001b[0m\u001b[1;33m\u001b[0m\u001b[0m\n\u001b[0m\u001b[0;32m     38\u001b[0m \u001b[1;33m\u001b[0m\u001b[0m\n\u001b[0;32m     39\u001b[0m         \u001b[0mplt\u001b[0m\u001b[1;33m.\u001b[0m\u001b[0mfigure\u001b[0m\u001b[1;33m(\u001b[0m\u001b[0mnum\u001b[0m\u001b[1;33m=\u001b[0m\u001b[0mNone\u001b[0m\u001b[1;33m,\u001b[0m \u001b[0mfigsize\u001b[0m\u001b[1;33m=\u001b[0m\u001b[1;33m(\u001b[0m\u001b[1;36m18\u001b[0m\u001b[1;33m,\u001b[0m \u001b[1;36m6\u001b[0m\u001b[1;33m)\u001b[0m\u001b[1;33m,\u001b[0m \u001b[0mdpi\u001b[0m\u001b[1;33m=\u001b[0m\u001b[1;36m80\u001b[0m\u001b[1;33m,\u001b[0m \u001b[0mfacecolor\u001b[0m\u001b[1;33m=\u001b[0m\u001b[1;34m'w'\u001b[0m\u001b[1;33m,\u001b[0m \u001b[0medgecolor\u001b[0m\u001b[1;33m=\u001b[0m\u001b[1;34m'k'\u001b[0m\u001b[1;33m)\u001b[0m\u001b[1;33m\u001b[0m\u001b[0m\n",
      "\u001b[1;32m/home/user/Enthought/Canopy_64bit/User/lib/python2.7/site-packages/ipykernel/kernelbase.pyc\u001b[0m in \u001b[0;36mraw_input\u001b[1;34m(self, prompt)\u001b[0m\n\u001b[0;32m    687\u001b[0m             \u001b[0mself\u001b[0m\u001b[1;33m.\u001b[0m\u001b[0m_parent_ident\u001b[0m\u001b[1;33m,\u001b[0m\u001b[1;33m\u001b[0m\u001b[0m\n\u001b[0;32m    688\u001b[0m             \u001b[0mself\u001b[0m\u001b[1;33m.\u001b[0m\u001b[0m_parent_header\u001b[0m\u001b[1;33m,\u001b[0m\u001b[1;33m\u001b[0m\u001b[0m\n\u001b[1;32m--> 689\u001b[1;33m             \u001b[0mpassword\u001b[0m\u001b[1;33m=\u001b[0m\u001b[0mFalse\u001b[0m\u001b[1;33m,\u001b[0m\u001b[1;33m\u001b[0m\u001b[0m\n\u001b[0m\u001b[0;32m    690\u001b[0m         )\n\u001b[0;32m    691\u001b[0m \u001b[1;33m\u001b[0m\u001b[0m\n",
      "\u001b[1;32m/home/user/Enthought/Canopy_64bit/User/lib/python2.7/site-packages/ipykernel/kernelbase.pyc\u001b[0m in \u001b[0;36m_input_request\u001b[1;34m(self, prompt, ident, parent, password)\u001b[0m\n\u001b[0;32m    717\u001b[0m             \u001b[1;32mexcept\u001b[0m \u001b[0mKeyboardInterrupt\u001b[0m\u001b[1;33m:\u001b[0m\u001b[1;33m\u001b[0m\u001b[0m\n\u001b[0;32m    718\u001b[0m                 \u001b[1;31m# re-raise KeyboardInterrupt, to truncate traceback\u001b[0m\u001b[1;33m\u001b[0m\u001b[1;33m\u001b[0m\u001b[0m\n\u001b[1;32m--> 719\u001b[1;33m                 \u001b[1;32mraise\u001b[0m \u001b[0mKeyboardInterrupt\u001b[0m\u001b[1;33m\u001b[0m\u001b[0m\n\u001b[0m\u001b[0;32m    720\u001b[0m             \u001b[1;32melse\u001b[0m\u001b[1;33m:\u001b[0m\u001b[1;33m\u001b[0m\u001b[0m\n\u001b[0;32m    721\u001b[0m                 \u001b[1;32mbreak\u001b[0m\u001b[1;33m\u001b[0m\u001b[0m\n",
      "\u001b[1;31mKeyboardInterrupt\u001b[0m: "
     ]
    }
   ],
   "source": [
    "%run \"a5_defChain.ipynb\"\n",
    "OutputResDefChain(comResAnalysis, claStageMatrix)"
   ]
  },
  {
   "cell_type": "code",
   "execution_count": 4,
   "metadata": {
    "collapsed": true
   },
   "outputs": [
    {
     "name": "stderr",
     "output_type": "stream",
     "text": [
      "ERROR: File `u'1_stageMatrix.ipynb.py'` not found.\n",
      "ERROR: File `u'2_output.ipynb.py'` not found.\n",
      "ERROR: File `u'3_comAnalysis.ipynb.py'` not found.\n",
      "ERROR: File `u'4_outputComAnalysis.ipynb.py'` not found.\n"
     ]
    },
    {
     "name": "stdout",
     "output_type": "stream",
     "text": [
      "---1 featrureProfile fin ---\n",
      "\ttotal  7 Execution Traces \tall pairwise alignment done.\n",
      "---2 alignment fin ---\n",
      "---3 match& gap fin ---\n",
      "---4 stageMatrix fin ---\n",
      "\ttotal segment #:  5\n",
      "---5 setMotif fin ---\n"
     ]
    },
    {
     "ename": "NameError",
     "evalue": "name 'OutputStage' is not defined",
     "output_type": "error",
     "traceback": [
      "\u001b[1;31m---------------------------------------------------------------------------\u001b[0m",
      "\u001b[1;31mNameError\u001b[0m                                 Traceback (most recent call last)",
      "\u001b[1;32m<ipython-input-4-6ea72af9fb99>\u001b[0m in \u001b[0;36m<module>\u001b[1;34m()\u001b[0m\n\u001b[0;32m     11\u001b[0m \u001b[1;33m\u001b[0m\u001b[0m\n\u001b[0;32m     12\u001b[0m     \u001b[0mclaStageMatrix\u001b[0m \u001b[1;33m=\u001b[0m \u001b[0mStageMatrix\u001b[0m\u001b[1;33m(\u001b[0m\u001b[0mfamily_name\u001b[0m\u001b[1;33m)\u001b[0m             \u001b[1;31m# step_1\u001b[0m\u001b[1;33m\u001b[0m\u001b[0m\n\u001b[1;32m---> 13\u001b[1;33m     \u001b[0mclaOutStage\u001b[0m \u001b[1;33m=\u001b[0m \u001b[0mOutputStage\u001b[0m\u001b[1;33m(\u001b[0m \u001b[0mclaStageMatrix\u001b[0m \u001b[1;33m)\u001b[0m           \u001b[1;31m# step_2\u001b[0m\u001b[1;33m\u001b[0m\u001b[0m\n\u001b[0m\u001b[0;32m     14\u001b[0m     \u001b[0mOutputMotiGraph\u001b[0m \u001b[1;33m(\u001b[0m\u001b[0mclaStageMatrix\u001b[0m\u001b[1;33m,\u001b[0m \u001b[0mclaOutStage\u001b[0m\u001b[1;33m)\u001b[0m\u001b[1;33m\u001b[0m\u001b[0m\n\u001b[0;32m     15\u001b[0m     \u001b[0mmotiDict\u001b[0m \u001b[1;33m=\u001b[0m \u001b[0mMotiDict\u001b[0m\u001b[1;33m(\u001b[0m\u001b[0mclaStageMatrix\u001b[0m\u001b[1;33m,\u001b[0m \u001b[0mclaOutStage\u001b[0m\u001b[1;33m)\u001b[0m      \u001b[1;31m# step_3\u001b[0m\u001b[1;33m\u001b[0m\u001b[0m\n",
      "\u001b[1;31mNameError\u001b[0m: name 'OutputStage' is not defined"
     ]
    }
   ],
   "source": [
    "# run all groups\n",
    "%run \"a1_stageMatrix.ipynb\"\n",
    "%run \"a2_output.ipynb\"\n",
    "%run \"a3_comAnalysis.ipynb\"\n",
    "%run \"a4_outputComAnalysis.ipynb\"\n",
    "\n",
    "import os\n",
    "\n",
    "family_list = os.listdir(\"data/family/\")\n",
    "\n",
    "for family_name in family_list:\n",
    "    \n",
    "    # step_1\n",
    "    claStageMatrix = StageMatrix(family_name)            \n",
    "    # step_2\n",
    "    claOutStage = OutputStage( claStageMatrix )\n",
    "    OutputMotiGraph (claStageMatrix, claOutStage)\n",
    "    # step_3 \n",
    "    motiDict = MotiDict(claStageMatrix, claOutStage)\n",
    "    comMot = motiDict.getComMoti()\n",
    "    comResAnalysis = ComResAnalysis(comMot)\n",
    "    # step_4\n",
    "    OutputCsv(comResAnalysis, claStageMatrix, claOutStage)\n",
    "    OutputComMotiAnaly(comResAnalysis, claStageMatrix, claOutStage)\n",
    "    "
   ]
  }
 ],
 "metadata": {
  "kernelspec": {
   "display_name": "Python 2",
   "language": "python",
   "name": "python2"
  },
  "language_info": {
   "codemirror_mode": {
    "name": "ipython",
    "version": 2
   },
   "file_extension": ".py",
   "mimetype": "text/x-python",
   "name": "python",
   "nbconvert_exporter": "python",
   "pygments_lexer": "ipython2",
   "version": "2.7.11"
  }
 },
 "nbformat": 4,
 "nbformat_minor": 0
}
